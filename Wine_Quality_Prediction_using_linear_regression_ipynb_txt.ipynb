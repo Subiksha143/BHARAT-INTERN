{
  "cells": [
    {
      "cell_type": "markdown",
      "metadata": {
        "id": "view-in-github",
        "colab_type": "text"
      },
      "source": [
        "<a href=\"https://colab.research.google.com/github/Subiksha143/BHARAT-INTERN/blob/main/Wine_Quality_Prediction_using_linear_regression_ipynb_txt.ipynb\" target=\"_parent\"><img src=\"https://colab.research.google.com/assets/colab-badge.svg\" alt=\"Open In Colab\"/></a>"
      ]
    },
    {
      "cell_type": "markdown",
      "id": "6dfbc316",
      "metadata": {
        "id": "6dfbc316"
      },
      "source": [
        "# RED WINE QUALITY PREDICTION USING LINEAR REGRESSION"
      ]
    },
    {
      "cell_type": "markdown",
      "id": "ef9b8037",
      "metadata": {
        "id": "ef9b8037"
      },
      "source": [
        "## IMPORT LIBRARIES"
      ]
    },
    {
      "cell_type": "code",
      "execution_count": null,
      "id": "88dc6275",
      "metadata": {
        "id": "88dc6275"
      },
      "outputs": [],
      "source": [
        "import pandas as pd\n",
        "from sklearn.model_selection import train_test_split\n",
        "from sklearn.linear_model import LinearRegression\n",
        "from sklearn import metrics\n",
        "import matplotlib.pyplot as plt\n",
        "import numpy as np\n",
        "import seaborn as sns"
      ]
    },
    {
      "cell_type": "markdown",
      "id": "bf859ae5",
      "metadata": {
        "id": "bf859ae5"
      },
      "source": [
        "## DATA COLLECTION AND PREPROCESSING"
      ]
    },
    {
      "cell_type": "markdown",
      "id": "a8c2a1a3",
      "metadata": {
        "id": "a8c2a1a3"
      },
      "source": [
        "df = pd.read_csv('winequality-red.csv')"
      ]
    },
    {
      "cell_type": "code",
      "execution_count": null,
      "id": "64e49e09",
      "metadata": {
        "id": "64e49e09",
        "outputId": "2d925c89-7982-46e0-e901-edfa56b8a27f"
      },
      "outputs": [
        {
          "data": {
            "text/html": [
              "<div>\n",
              "<style scoped>\n",
              "    .dataframe tbody tr th:only-of-type {\n",
              "        vertical-align: middle;\n",
              "    }\n",
              "\n",
              "    .dataframe tbody tr th {\n",
              "        vertical-align: top;\n",
              "    }\n",
              "\n",
              "    .dataframe thead th {\n",
              "        text-align: right;\n",
              "    }\n",
              "</style>\n",
              "<table border=\"1\" class=\"dataframe\">\n",
              "  <thead>\n",
              "    <tr style=\"text-align: right;\">\n",
              "      <th></th>\n",
              "      <th>fixed acidity</th>\n",
              "      <th>volatile acidity</th>\n",
              "      <th>citric acid</th>\n",
              "      <th>residual sugar</th>\n",
              "      <th>chlorides</th>\n",
              "      <th>free sulfur dioxide</th>\n",
              "      <th>total sulfur dioxide</th>\n",
              "      <th>density</th>\n",
              "      <th>pH</th>\n",
              "      <th>sulphates</th>\n",
              "      <th>alcohol</th>\n",
              "      <th>quality</th>\n",
              "    </tr>\n",
              "  </thead>\n",
              "  <tbody>\n",
              "    <tr>\n",
              "      <th>0</th>\n",
              "      <td>7.4</td>\n",
              "      <td>0.70</td>\n",
              "      <td>0.00</td>\n",
              "      <td>1.9</td>\n",
              "      <td>0.076</td>\n",
              "      <td>11.0</td>\n",
              "      <td>34.0</td>\n",
              "      <td>0.9978</td>\n",
              "      <td>3.51</td>\n",
              "      <td>0.56</td>\n",
              "      <td>9.4</td>\n",
              "      <td>5</td>\n",
              "    </tr>\n",
              "    <tr>\n",
              "      <th>1</th>\n",
              "      <td>7.8</td>\n",
              "      <td>0.88</td>\n",
              "      <td>0.00</td>\n",
              "      <td>2.6</td>\n",
              "      <td>0.098</td>\n",
              "      <td>25.0</td>\n",
              "      <td>67.0</td>\n",
              "      <td>0.9968</td>\n",
              "      <td>3.20</td>\n",
              "      <td>0.68</td>\n",
              "      <td>9.8</td>\n",
              "      <td>5</td>\n",
              "    </tr>\n",
              "    <tr>\n",
              "      <th>2</th>\n",
              "      <td>7.8</td>\n",
              "      <td>0.76</td>\n",
              "      <td>0.04</td>\n",
              "      <td>2.3</td>\n",
              "      <td>0.092</td>\n",
              "      <td>15.0</td>\n",
              "      <td>54.0</td>\n",
              "      <td>0.9970</td>\n",
              "      <td>3.26</td>\n",
              "      <td>0.65</td>\n",
              "      <td>9.8</td>\n",
              "      <td>5</td>\n",
              "    </tr>\n",
              "    <tr>\n",
              "      <th>3</th>\n",
              "      <td>11.2</td>\n",
              "      <td>0.28</td>\n",
              "      <td>0.56</td>\n",
              "      <td>1.9</td>\n",
              "      <td>0.075</td>\n",
              "      <td>17.0</td>\n",
              "      <td>60.0</td>\n",
              "      <td>0.9980</td>\n",
              "      <td>3.16</td>\n",
              "      <td>0.58</td>\n",
              "      <td>9.8</td>\n",
              "      <td>6</td>\n",
              "    </tr>\n",
              "    <tr>\n",
              "      <th>4</th>\n",
              "      <td>7.4</td>\n",
              "      <td>0.70</td>\n",
              "      <td>0.00</td>\n",
              "      <td>1.9</td>\n",
              "      <td>0.076</td>\n",
              "      <td>11.0</td>\n",
              "      <td>34.0</td>\n",
              "      <td>0.9978</td>\n",
              "      <td>3.51</td>\n",
              "      <td>0.56</td>\n",
              "      <td>9.4</td>\n",
              "      <td>5</td>\n",
              "    </tr>\n",
              "  </tbody>\n",
              "</table>\n",
              "</div>"
            ],
            "text/plain": [
              "   fixed acidity  volatile acidity  citric acid  residual sugar  chlorides  \\\n",
              "0            7.4              0.70         0.00             1.9      0.076   \n",
              "1            7.8              0.88         0.00             2.6      0.098   \n",
              "2            7.8              0.76         0.04             2.3      0.092   \n",
              "3           11.2              0.28         0.56             1.9      0.075   \n",
              "4            7.4              0.70         0.00             1.9      0.076   \n",
              "\n",
              "   free sulfur dioxide  total sulfur dioxide  density    pH  sulphates  \\\n",
              "0                 11.0                  34.0   0.9978  3.51       0.56   \n",
              "1                 25.0                  67.0   0.9968  3.20       0.68   \n",
              "2                 15.0                  54.0   0.9970  3.26       0.65   \n",
              "3                 17.0                  60.0   0.9980  3.16       0.58   \n",
              "4                 11.0                  34.0   0.9978  3.51       0.56   \n",
              "\n",
              "   alcohol  quality  \n",
              "0      9.4        5  \n",
              "1      9.8        5  \n",
              "2      9.8        5  \n",
              "3      9.8        6  \n",
              "4      9.4        5  "
            ]
          },
          "execution_count": 5,
          "metadata": {},
          "output_type": "execute_result"
        }
      ],
      "source": [
        "df.head()"
      ]
    },
    {
      "cell_type": "code",
      "execution_count": null,
      "id": "1c87ad8a",
      "metadata": {
        "id": "1c87ad8a",
        "outputId": "3ec9d2f9-2775-4099-cfcc-cabc0842ac7c"
      },
      "outputs": [
        {
          "data": {
            "text/html": [
              "<div>\n",
              "<style scoped>\n",
              "    .dataframe tbody tr th:only-of-type {\n",
              "        vertical-align: middle;\n",
              "    }\n",
              "\n",
              "    .dataframe tbody tr th {\n",
              "        vertical-align: top;\n",
              "    }\n",
              "\n",
              "    .dataframe thead th {\n",
              "        text-align: right;\n",
              "    }\n",
              "</style>\n",
              "<table border=\"1\" class=\"dataframe\">\n",
              "  <thead>\n",
              "    <tr style=\"text-align: right;\">\n",
              "      <th></th>\n",
              "      <th>fixed acidity</th>\n",
              "      <th>volatile acidity</th>\n",
              "      <th>citric acid</th>\n",
              "      <th>residual sugar</th>\n",
              "      <th>chlorides</th>\n",
              "      <th>free sulfur dioxide</th>\n",
              "      <th>total sulfur dioxide</th>\n",
              "      <th>density</th>\n",
              "      <th>pH</th>\n",
              "      <th>sulphates</th>\n",
              "      <th>alcohol</th>\n",
              "      <th>quality</th>\n",
              "    </tr>\n",
              "  </thead>\n",
              "  <tbody>\n",
              "    <tr>\n",
              "      <th>count</th>\n",
              "      <td>1599.000000</td>\n",
              "      <td>1599.000000</td>\n",
              "      <td>1599.000000</td>\n",
              "      <td>1599.000000</td>\n",
              "      <td>1599.000000</td>\n",
              "      <td>1599.000000</td>\n",
              "      <td>1599.000000</td>\n",
              "      <td>1599.000000</td>\n",
              "      <td>1599.000000</td>\n",
              "      <td>1599.000000</td>\n",
              "      <td>1599.000000</td>\n",
              "      <td>1599.000000</td>\n",
              "    </tr>\n",
              "    <tr>\n",
              "      <th>mean</th>\n",
              "      <td>8.319637</td>\n",
              "      <td>0.527821</td>\n",
              "      <td>0.270976</td>\n",
              "      <td>2.538806</td>\n",
              "      <td>0.087467</td>\n",
              "      <td>15.874922</td>\n",
              "      <td>46.467792</td>\n",
              "      <td>0.996747</td>\n",
              "      <td>3.311113</td>\n",
              "      <td>0.658149</td>\n",
              "      <td>10.422983</td>\n",
              "      <td>5.636023</td>\n",
              "    </tr>\n",
              "    <tr>\n",
              "      <th>std</th>\n",
              "      <td>1.741096</td>\n",
              "      <td>0.179060</td>\n",
              "      <td>0.194801</td>\n",
              "      <td>1.409928</td>\n",
              "      <td>0.047065</td>\n",
              "      <td>10.460157</td>\n",
              "      <td>32.895324</td>\n",
              "      <td>0.001887</td>\n",
              "      <td>0.154386</td>\n",
              "      <td>0.169507</td>\n",
              "      <td>1.065668</td>\n",
              "      <td>0.807569</td>\n",
              "    </tr>\n",
              "    <tr>\n",
              "      <th>min</th>\n",
              "      <td>4.600000</td>\n",
              "      <td>0.120000</td>\n",
              "      <td>0.000000</td>\n",
              "      <td>0.900000</td>\n",
              "      <td>0.012000</td>\n",
              "      <td>1.000000</td>\n",
              "      <td>6.000000</td>\n",
              "      <td>0.990070</td>\n",
              "      <td>2.740000</td>\n",
              "      <td>0.330000</td>\n",
              "      <td>8.400000</td>\n",
              "      <td>3.000000</td>\n",
              "    </tr>\n",
              "    <tr>\n",
              "      <th>25%</th>\n",
              "      <td>7.100000</td>\n",
              "      <td>0.390000</td>\n",
              "      <td>0.090000</td>\n",
              "      <td>1.900000</td>\n",
              "      <td>0.070000</td>\n",
              "      <td>7.000000</td>\n",
              "      <td>22.000000</td>\n",
              "      <td>0.995600</td>\n",
              "      <td>3.210000</td>\n",
              "      <td>0.550000</td>\n",
              "      <td>9.500000</td>\n",
              "      <td>5.000000</td>\n",
              "    </tr>\n",
              "    <tr>\n",
              "      <th>50%</th>\n",
              "      <td>7.900000</td>\n",
              "      <td>0.520000</td>\n",
              "      <td>0.260000</td>\n",
              "      <td>2.200000</td>\n",
              "      <td>0.079000</td>\n",
              "      <td>14.000000</td>\n",
              "      <td>38.000000</td>\n",
              "      <td>0.996750</td>\n",
              "      <td>3.310000</td>\n",
              "      <td>0.620000</td>\n",
              "      <td>10.200000</td>\n",
              "      <td>6.000000</td>\n",
              "    </tr>\n",
              "    <tr>\n",
              "      <th>75%</th>\n",
              "      <td>9.200000</td>\n",
              "      <td>0.640000</td>\n",
              "      <td>0.420000</td>\n",
              "      <td>2.600000</td>\n",
              "      <td>0.090000</td>\n",
              "      <td>21.000000</td>\n",
              "      <td>62.000000</td>\n",
              "      <td>0.997835</td>\n",
              "      <td>3.400000</td>\n",
              "      <td>0.730000</td>\n",
              "      <td>11.100000</td>\n",
              "      <td>6.000000</td>\n",
              "    </tr>\n",
              "    <tr>\n",
              "      <th>max</th>\n",
              "      <td>15.900000</td>\n",
              "      <td>1.580000</td>\n",
              "      <td>1.000000</td>\n",
              "      <td>15.500000</td>\n",
              "      <td>0.611000</td>\n",
              "      <td>72.000000</td>\n",
              "      <td>289.000000</td>\n",
              "      <td>1.003690</td>\n",
              "      <td>4.010000</td>\n",
              "      <td>2.000000</td>\n",
              "      <td>14.900000</td>\n",
              "      <td>8.000000</td>\n",
              "    </tr>\n",
              "  </tbody>\n",
              "</table>\n",
              "</div>"
            ],
            "text/plain": [
              "       fixed acidity  volatile acidity  citric acid  residual sugar  \\\n",
              "count    1599.000000       1599.000000  1599.000000     1599.000000   \n",
              "mean        8.319637          0.527821     0.270976        2.538806   \n",
              "std         1.741096          0.179060     0.194801        1.409928   \n",
              "min         4.600000          0.120000     0.000000        0.900000   \n",
              "25%         7.100000          0.390000     0.090000        1.900000   \n",
              "50%         7.900000          0.520000     0.260000        2.200000   \n",
              "75%         9.200000          0.640000     0.420000        2.600000   \n",
              "max        15.900000          1.580000     1.000000       15.500000   \n",
              "\n",
              "         chlorides  free sulfur dioxide  total sulfur dioxide      density  \\\n",
              "count  1599.000000          1599.000000           1599.000000  1599.000000   \n",
              "mean      0.087467            15.874922             46.467792     0.996747   \n",
              "std       0.047065            10.460157             32.895324     0.001887   \n",
              "min       0.012000             1.000000              6.000000     0.990070   \n",
              "25%       0.070000             7.000000             22.000000     0.995600   \n",
              "50%       0.079000            14.000000             38.000000     0.996750   \n",
              "75%       0.090000            21.000000             62.000000     0.997835   \n",
              "max       0.611000            72.000000            289.000000     1.003690   \n",
              "\n",
              "                pH    sulphates      alcohol      quality  \n",
              "count  1599.000000  1599.000000  1599.000000  1599.000000  \n",
              "mean      3.311113     0.658149    10.422983     5.636023  \n",
              "std       0.154386     0.169507     1.065668     0.807569  \n",
              "min       2.740000     0.330000     8.400000     3.000000  \n",
              "25%       3.210000     0.550000     9.500000     5.000000  \n",
              "50%       3.310000     0.620000    10.200000     6.000000  \n",
              "75%       3.400000     0.730000    11.100000     6.000000  \n",
              "max       4.010000     2.000000    14.900000     8.000000  "
            ]
          },
          "execution_count": 6,
          "metadata": {},
          "output_type": "execute_result"
        }
      ],
      "source": [
        "df.describe()"
      ]
    },
    {
      "cell_type": "code",
      "execution_count": null,
      "id": "440b1e30",
      "metadata": {
        "id": "440b1e30",
        "outputId": "dda154c7-6f6e-4807-d8c2-b0dcd2ffc53a"
      },
      "outputs": [
        {
          "name": "stdout",
          "output_type": "stream",
          "text": [
            "fixed acidity           0.124052\n",
            "volatile acidity       -0.390558\n",
            "citric acid             0.226373\n",
            "residual sugar          0.013732\n",
            "chlorides              -0.128907\n",
            "free sulfur dioxide    -0.050656\n",
            "total sulfur dioxide   -0.185100\n",
            "density                -0.174919\n",
            "pH                     -0.057731\n",
            "sulphates               0.251397\n",
            "alcohol                 0.476166\n",
            "Name: quality, dtype: float64\n"
          ]
        }
      ],
      "source": [
        "# there are no categorical variables. each feature is a number. Regression problem.\n",
        "# Given the set of values for features, we have to predict the quality of wine.\n",
        "# finding correlation of each feature with our target variable - quality\n",
        "correlations = df.corr()['quality'].drop('quality')\n",
        "print(correlations)"
      ]
    },
    {
      "cell_type": "markdown",
      "id": "ed2fc608",
      "metadata": {
        "id": "ed2fc608"
      },
      "source": [
        "## CORRELATION DIAGRAM"
      ]
    },
    {
      "cell_type": "code",
      "execution_count": null,
      "id": "6971821b",
      "metadata": {
        "id": "6971821b",
        "outputId": "57830602-cbc9-4c66-9b1d-c996a3f77105"
      },
      "outputs": [
        {
          "data": {
            "image/png": "[encoded data removed]",
            "text/plain": [
              "<Figure size 432x288 with 2 Axes>"
            ]
          },
          "metadata": {
            "needs_background": "light"
          },
          "output_type": "display_data"
        }
      ],
      "source": [
        "sns.heatmap(df.corr())\n",
        "plt.show()"
      ]
    },
    {
      "cell_type": "code",
      "execution_count": null,
      "id": "0b6ee83c",
      "metadata": {
        "id": "0b6ee83c"
      },
      "outputs": [],
      "source": [
        "def get_features(correlation_threshold):\n",
        "    abs_corrs = correlations.abs()\n",
        "    high_correlations = abs_corrs[abs_corrs > correlation_threshold].index.values.tolist()\n",
        "    return high_correlations"
      ]
    },
    {
      "cell_type": "code",
      "execution_count": null,
      "id": "273d38aa",
      "metadata": {
        "id": "273d38aa",
        "outputId": "ae99d832-1a95-475e-c42a-6bba9620b072"
      },
      "outputs": [
        {
          "name": "stdout",
          "output_type": "stream",
          "text": [
            "['fixed acidity', 'volatile acidity', 'citric acid', 'chlorides', 'free sulfur dioxide', 'total sulfur dioxide', 'density', 'pH', 'sulphates', 'alcohol']\n"
          ]
        }
      ],
      "source": [
        "# taking features with correlation more than 0.05 as input x and quality as target variable y\n",
        "features = get_features(0.05)\n",
        "print(features)\n",
        "x = df[features]\n",
        "y = df['quality']"
      ]
    },
    {
      "cell_type": "code",
      "execution_count": null,
      "id": "ee8a7fe2",
      "metadata": {
        "id": "ee8a7fe2",
        "outputId": "4a6886cc-6792-4527-a372-cae51b4d71da"
      },
      "outputs": [
        {
          "data": {
            "text/html": [
              "<div>\n",
              "<style scoped>\n",
              "    .dataframe tbody tr th:only-of-type {\n",
              "        vertical-align: middle;\n",
              "    }\n",
              "\n",
              "    .dataframe tbody tr th {\n",
              "        vertical-align: top;\n",
              "    }\n",
              "\n",
              "    .dataframe thead th {\n",
              "        text-align: right;\n",
              "    }\n",
              "</style>\n",
              "<table border=\"1\" class=\"dataframe\">\n",
              "  <thead>\n",
              "    <tr style=\"text-align: right;\">\n",
              "      <th></th>\n",
              "      <th>fixed acidity</th>\n",
              "      <th>volatile acidity</th>\n",
              "      <th>citric acid</th>\n",
              "      <th>chlorides</th>\n",
              "      <th>free sulfur dioxide</th>\n",
              "      <th>total sulfur dioxide</th>\n",
              "      <th>density</th>\n",
              "      <th>pH</th>\n",
              "      <th>sulphates</th>\n",
              "      <th>alcohol</th>\n",
              "    </tr>\n",
              "  </thead>\n",
              "  <tbody>\n",
              "    <tr>\n",
              "      <th>0</th>\n",
              "      <td>7.4</td>\n",
              "      <td>0.70</td>\n",
              "      <td>0.00</td>\n",
              "      <td>0.076</td>\n",
              "      <td>11.0</td>\n",
              "      <td>34.0</td>\n",
              "      <td>0.9978</td>\n",
              "      <td>3.51</td>\n",
              "      <td>0.56</td>\n",
              "      <td>9.4</td>\n",
              "    </tr>\n",
              "    <tr>\n",
              "      <th>1</th>\n",
              "      <td>7.8</td>\n",
              "      <td>0.88</td>\n",
              "      <td>0.00</td>\n",
              "      <td>0.098</td>\n",
              "      <td>25.0</td>\n",
              "      <td>67.0</td>\n",
              "      <td>0.9968</td>\n",
              "      <td>3.20</td>\n",
              "      <td>0.68</td>\n",
              "      <td>9.8</td>\n",
              "    </tr>\n",
              "    <tr>\n",
              "      <th>2</th>\n",
              "      <td>7.8</td>\n",
              "      <td>0.76</td>\n",
              "      <td>0.04</td>\n",
              "      <td>0.092</td>\n",
              "      <td>15.0</td>\n",
              "      <td>54.0</td>\n",
              "      <td>0.9970</td>\n",
              "      <td>3.26</td>\n",
              "      <td>0.65</td>\n",
              "      <td>9.8</td>\n",
              "    </tr>\n",
              "    <tr>\n",
              "      <th>3</th>\n",
              "      <td>11.2</td>\n",
              "      <td>0.28</td>\n",
              "      <td>0.56</td>\n",
              "      <td>0.075</td>\n",
              "      <td>17.0</td>\n",
              "      <td>60.0</td>\n",
              "      <td>0.9980</td>\n",
              "      <td>3.16</td>\n",
              "      <td>0.58</td>\n",
              "      <td>9.8</td>\n",
              "    </tr>\n",
              "    <tr>\n",
              "      <th>4</th>\n",
              "      <td>7.4</td>\n",
              "      <td>0.70</td>\n",
              "      <td>0.00</td>\n",
              "      <td>0.076</td>\n",
              "      <td>11.0</td>\n",
              "      <td>34.0</td>\n",
              "      <td>0.9978</td>\n",
              "      <td>3.51</td>\n",
              "      <td>0.56</td>\n",
              "      <td>9.4</td>\n",
              "    </tr>\n",
              "    <tr>\n",
              "      <th>5</th>\n",
              "      <td>7.4</td>\n",
              "      <td>0.66</td>\n",
              "      <td>0.00</td>\n",
              "      <td>0.075</td>\n",
              "      <td>13.0</td>\n",
              "      <td>40.0</td>\n",
              "      <td>0.9978</td>\n",
              "      <td>3.51</td>\n",
              "      <td>0.56</td>\n",
              "      <td>9.4</td>\n",
              "    </tr>\n",
              "    <tr>\n",
              "      <th>6</th>\n",
              "      <td>7.9</td>\n",
              "      <td>0.60</td>\n",
              "      <td>0.06</td>\n",
              "      <td>0.069</td>\n",
              "      <td>15.0</td>\n",
              "      <td>59.0</td>\n",
              "      <td>0.9964</td>\n",
              "      <td>3.30</td>\n",
              "      <td>0.46</td>\n",
              "      <td>9.4</td>\n",
              "    </tr>\n",
              "    <tr>\n",
              "      <th>7</th>\n",
              "      <td>7.3</td>\n",
              "      <td>0.65</td>\n",
              "      <td>0.00</td>\n",
              "      <td>0.065</td>\n",
              "      <td>15.0</td>\n",
              "      <td>21.0</td>\n",
              "      <td>0.9946</td>\n",
              "      <td>3.39</td>\n",
              "      <td>0.47</td>\n",
              "      <td>10.0</td>\n",
              "    </tr>\n",
              "    <tr>\n",
              "      <th>8</th>\n",
              "      <td>7.8</td>\n",
              "      <td>0.58</td>\n",
              "      <td>0.02</td>\n",
              "      <td>0.073</td>\n",
              "      <td>9.0</td>\n",
              "      <td>18.0</td>\n",
              "      <td>0.9968</td>\n",
              "      <td>3.36</td>\n",
              "      <td>0.57</td>\n",
              "      <td>9.5</td>\n",
              "    </tr>\n",
              "    <tr>\n",
              "      <th>9</th>\n",
              "      <td>7.5</td>\n",
              "      <td>0.50</td>\n",
              "      <td>0.36</td>\n",
              "      <td>0.071</td>\n",
              "      <td>17.0</td>\n",
              "      <td>102.0</td>\n",
              "      <td>0.9978</td>\n",
              "      <td>3.35</td>\n",
              "      <td>0.80</td>\n",
              "      <td>10.5</td>\n",
              "    </tr>\n",
              "  </tbody>\n",
              "</table>\n",
              "</div>"
            ],
            "text/plain": [
              "   fixed acidity  volatile acidity  citric acid  chlorides  \\\n",
              "0            7.4              0.70         0.00      0.076   \n",
              "1            7.8              0.88         0.00      0.098   \n",
              "2            7.8              0.76         0.04      0.092   \n",
              "3           11.2              0.28         0.56      0.075   \n",
              "4            7.4              0.70         0.00      0.076   \n",
              "5            7.4              0.66         0.00      0.075   \n",
              "6            7.9              0.60         0.06      0.069   \n",
              "7            7.3              0.65         0.00      0.065   \n",
              "8            7.8              0.58         0.02      0.073   \n",
              "9            7.5              0.50         0.36      0.071   \n",
              "\n",
              "   free sulfur dioxide  total sulfur dioxide  density    pH  sulphates  \\\n",
              "0                 11.0                  34.0   0.9978  3.51       0.56   \n",
              "1                 25.0                  67.0   0.9968  3.20       0.68   \n",
              "2                 15.0                  54.0   0.9970  3.26       0.65   \n",
              "3                 17.0                  60.0   0.9980  3.16       0.58   \n",
              "4                 11.0                  34.0   0.9978  3.51       0.56   \n",
              "5                 13.0                  40.0   0.9978  3.51       0.56   \n",
              "6                 15.0                  59.0   0.9964  3.30       0.46   \n",
              "7                 15.0                  21.0   0.9946  3.39       0.47   \n",
              "8                  9.0                  18.0   0.9968  3.36       0.57   \n",
              "9                 17.0                 102.0   0.9978  3.35       0.80   \n",
              "\n",
              "   alcohol  \n",
              "0      9.4  \n",
              "1      9.8  \n",
              "2      9.8  \n",
              "3      9.8  \n",
              "4      9.4  \n",
              "5      9.4  \n",
              "6      9.4  \n",
              "7     10.0  \n",
              "8      9.5  \n",
              "9     10.5  "
            ]
          },
          "execution_count": 12,
          "metadata": {},
          "output_type": "execute_result"
        }
      ],
      "source": [
        "x\n",
        "x.head(10)"
      ]
    },
    {
      "cell_type": "code",
      "execution_count": null,
      "id": "9773ea79",
      "metadata": {
        "id": "9773ea79",
        "outputId": "569fe4a5-8ffa-4abb-b047-01dfea641898"
      },
      "outputs": [
        {
          "data": {
            "text/plain": [
              "0    5\n",
              "1    5\n",
              "2    5\n",
              "3    6\n",
              "4    5\n",
              "5    5\n",
              "6    5\n",
              "7    7\n",
              "8    7\n",
              "9    5\n",
              "Name: quality, dtype: int64"
            ]
          },
          "execution_count": 13,
          "metadata": {},
          "output_type": "execute_result"
        }
      ],
      "source": [
        "y\n",
        "y.head(10)"
      ]
    },
    {
      "cell_type": "markdown",
      "id": "c74f8fe2",
      "metadata": {
        "id": "c74f8fe2"
      },
      "source": [
        "## SPLITTING THE DATA INTO TRAIN AND TEST DATA"
      ]
    },
    {
      "cell_type": "code",
      "execution_count": null,
      "id": "7981088c",
      "metadata": {
        "id": "7981088c"
      },
      "outputs": [],
      "source": [
        "x_train,x_test,y_train,y_test=train_test_split(x,y,random_state=4)"
      ]
    },
    {
      "cell_type": "code",
      "execution_count": null,
      "id": "3bc333e3",
      "metadata": {
        "id": "3bc333e3",
        "outputId": "edccaf16-4278-4462-8e3a-cf192bf65ee3"
      },
      "outputs": [
        {
          "data": {
            "text/plain": [
              "(400,)"
            ]
          },
          "execution_count": 15,
          "metadata": {},
          "output_type": "execute_result"
        }
      ],
      "source": [
        "# x_train.shape\n",
        "# x_test.shape\n",
        "# y_train.shape\n",
        "y_test.shape"
      ]
    },
    {
      "cell_type": "markdown",
      "id": "0ab94340",
      "metadata": {
        "id": "0ab94340"
      },
      "source": [
        "## LINEAR REGRESSION"
      ]
    },
    {
      "cell_type": "code",
      "execution_count": null,
      "id": "3a7fca28",
      "metadata": {
        "id": "3a7fca28",
        "outputId": "c5bc520e-53a1-4584-8533-008cffe60b3e"
      },
      "outputs": [
        {
          "data": {
            "text/plain": [
              "LinearRegression()"
            ]
          },
          "execution_count": 16,
          "metadata": {},
          "output_type": "execute_result"
        }
      ],
      "source": [
        "# fitting linear regression to training data\n",
        "regressor = LinearRegression()\n",
        "regressor.fit(x_train,y_train)"
      ]
    },
    {
      "cell_type": "code",
      "execution_count": null,
      "id": "fd572e48",
      "metadata": {
        "id": "fd572e48",
        "outputId": "66c7dfa1-529b-4906-d6ad-8324e3b0f8ff"
      },
      "outputs": [
        {
          "data": {
            "text/plain": [
              "array([ 4.96819628e-02, -1.12900758e+00, -3.15544151e-01, -1.73799450e+00,\n",
              "        5.92227607e-03, -3.28075876e-03, -1.73591221e+01, -3.31435389e-01,\n",
              "        1.00325261e+00,  2.77220434e-01])"
            ]
          },
          "execution_count": 17,
          "metadata": {},
          "output_type": "execute_result"
        }
      ],
      "source": [
        "# this gives the coefficients of the 10 features selected above.\n",
        "regressor.coef_"
      ]
    },
    {
      "cell_type": "code",
      "execution_count": null,
      "id": "4c2537ad",
      "metadata": {
        "id": "4c2537ad",
        "outputId": "506bbaff-b3b7-4b30-90dc-98c81dd4bca7"
      },
      "outputs": [
        {
          "data": {
            "text/plain": [
              "array([5.66086868, 5.49066329, 5.96298577, ..., 5.22512935, 5.3442602 ,\n",
              "       5.63447898])"
            ]
          },
          "execution_count": 18,
          "metadata": {},
          "output_type": "execute_result"
        }
      ],
      "source": [
        "train_pred = regressor.predict(x_train)\n",
        "train_pred"
      ]
    },
    {
      "cell_type": "code",
      "execution_count": null,
      "id": "415e7a61",
      "metadata": {
        "id": "415e7a61",
        "outputId": "7b4699fa-f4bf-4a5b-c3c7-385bf4cc2fad"
      },
      "outputs": [
        {
          "data": {
            "text/plain": [
              "array([5.67202174, 5.34701289, 6.14086242, 6.15092423, 5.31333095,\n",
              "       5.12179069, 4.82892906, 6.409382  , 5.12834989, 6.36929752,\n",
              "       6.25194291, 6.36933905, 5.45193205, 5.65745037, 6.37855567,\n",
              "       5.57008522, 5.29492457, 5.65908733, 5.21534762, 4.72758343,\n",
              "       5.69403697, 5.45012573, 5.3928977 , 5.43862871, 6.36546209,\n",
              "       5.08460532, 6.3151939 , 5.47239607, 5.47825776, 6.36820645,\n",
              "       5.49435445, 5.26660464, 6.15498303, 5.60402428, 5.45948453,\n",
              "       4.51764462, 6.50891447, 5.66228875, 6.14199137, 5.25400326,\n",
              "       5.85541384, 6.3146954 , 6.10372986, 6.21108975, 5.47239607,\n",
              "       6.46518375, 5.13811193, 5.5617585 , 5.31170848, 4.82666403,\n",
              "       5.72987948, 5.83286834, 5.25439423, 5.16042175, 5.94693304,\n",
              "       5.33101172, 5.81882097, 5.99136695, 5.96298577, 6.03816089,\n",
              "       5.71925144, 5.91912191, 6.07916111, 5.38411575, 5.92172646,\n",
              "       5.38633764, 6.03026606, 6.05524681, 5.38052693, 4.99636075,\n",
              "       6.29214348, 4.8454469 , 6.30411747, 6.48425247, 5.19719974,\n",
              "       5.36804818, 4.85406798, 5.0619862 , 5.16648549, 6.12687299,\n",
              "       6.13464445, 5.49752948, 5.2110115 , 5.39071022, 5.62226013,\n",
              "       5.17344891, 6.26349092, 5.63942298, 6.71951623, 5.04027114,\n",
              "       5.57676925, 5.24777036, 5.74741395, 5.50012666, 6.97475166,\n",
              "       5.58308499, 5.13086404, 6.01860315, 5.87881704, 5.59755523,\n",
              "       5.16357021, 6.16648361, 5.45502962, 4.99073625, 5.3707302 ,\n",
              "       5.34687045, 5.65421619, 5.09051218, 4.31259592, 6.42576479,\n",
              "       4.82550574, 5.59572802, 5.183159  , 5.86938936, 5.92913574,\n",
              "       5.87000391, 6.62070936, 6.41437503, 5.84712114, 6.13834049,\n",
              "       6.00377825, 4.84529741, 5.08195412, 5.30596181, 5.89792954,\n",
              "       5.84224017, 6.24186679, 5.99497177, 6.34067112, 5.04913677,\n",
              "       4.89227471, 5.61150641, 5.50872409, 5.90726752, 6.4749939 ,\n",
              "       5.65282233, 5.75786604, 5.00609297, 6.48640449, 5.40666259,\n",
              "       6.42524751, 5.1870377 , 6.17998573, 5.33888717, 5.67661691,\n",
              "       5.22886112, 7.55634223, 5.76635756, 6.92863611, 4.97259558,\n",
              "       6.00747115, 5.70461633, 5.60097869, 6.69747137, 5.55638553,\n",
              "       5.37950208, 5.21092679, 4.7888529 , 5.1335779 , 5.89949732,\n",
              "       6.27094489, 5.61369455, 6.17303257, 4.95215129, 5.05736389,\n",
              "       6.3779019 , 5.7551102 , 5.33041252, 5.12768661, 5.72634992,\n",
              "       5.3708971 , 5.53971573, 4.99802287, 5.67449017, 5.67551895,\n",
              "       5.55299419, 6.12955003, 6.15162504, 6.03991398, 6.15360076,\n",
              "       4.99947842, 5.4822187 , 6.44312678, 5.28220163, 6.74450502,\n",
              "       5.69589156, 5.51202578, 6.04250172, 6.05885798, 5.96336788,\n",
              "       5.96933504, 5.84292498, 5.05025793, 5.98146035, 6.15162504,\n",
              "       6.47250612, 6.17678683, 5.84995105, 5.65908733, 5.48785153,\n",
              "       5.54656687, 5.4781074 , 5.05618493, 6.12049309, 6.96072321,\n",
              "       5.08496434, 4.71921804, 5.73867335, 6.15892543, 5.2224875 ,\n",
              "       6.2645555 , 6.0615062 , 5.68898322, 5.81559917, 5.10059219,\n",
              "       6.16883821, 5.53076063, 5.9963637 , 6.2078171 , 5.10411845,\n",
              "       5.44658683, 5.78707219, 5.95239377, 5.36505191, 5.32544958,\n",
              "       5.56530904, 5.0910458 , 5.38092719, 5.72671552, 5.14112344,\n",
              "       4.97173465, 6.20642439, 5.91789557, 6.03026606, 5.43713013,\n",
              "       5.13570459, 5.62341052, 5.35560008, 5.31574619, 6.6592283 ,\n",
              "       4.76939023, 5.15130372, 6.14284747, 6.40293357, 4.93468165,\n",
              "       5.22564489, 5.11804942, 6.53882351, 5.46275974, 6.10637048,\n",
              "       5.30297718, 5.75452162, 5.5062883 , 5.33041252, 6.16534567,\n",
              "       5.4430902 , 4.93945605, 5.29025368, 5.4953559 , 5.61858429,\n",
              "       5.27014196, 5.57035343, 5.65924261, 5.17714276, 5.56716197,\n",
              "       6.6683822 , 5.26096198, 5.13898118, 5.22923753, 4.88721339,\n",
              "       5.31491145, 5.97192189, 5.80800264, 5.99074309, 5.23274265,\n",
              "       6.04889358, 5.98824605, 5.57307261, 6.19419962, 5.08028577,\n",
              "       5.32040249, 5.6962188 , 4.91785964, 5.59859251, 5.10543193,\n",
              "       5.03582024, 5.18878754, 6.21757223, 5.12578125, 5.70898152,\n",
              "       5.47431258, 6.41860714, 6.30441466, 5.53905158, 5.31574619,\n",
              "       6.26264357, 5.50628445, 6.00204582, 5.0984349 , 5.33696494,\n",
              "       6.61893608, 5.02797533, 5.24698951, 5.76427934, 6.28166695,\n",
              "       5.92373429, 5.55629967, 5.71717465, 5.45820492, 5.14482383,\n",
              "       6.22813541, 5.40288739, 6.02252227, 5.88987845, 4.89377767,\n",
              "       5.21032112, 6.26153311, 5.698856  , 5.16041699, 5.98425491,\n",
              "       6.08460924, 6.21850093, 5.57035343, 5.83365068, 5.05957193,\n",
              "       5.76249405, 6.45939869, 6.33219304, 5.50743383, 5.78696227,\n",
              "       6.49867503, 5.5173246 , 6.1683405 , 5.2069548 , 4.97749007,\n",
              "       6.47636937, 6.93072467, 5.22705978, 5.59348357, 5.03448214,\n",
              "       6.39496385, 5.08756171, 5.21959043, 5.24102536, 5.53076063,\n",
              "       5.77516024, 5.17349044, 5.56858306, 5.56332323, 5.38273608,\n",
              "       5.50714067, 5.87144989, 4.74933716, 5.05666957, 5.14560991,\n",
              "       5.56716197, 5.14103054, 5.22409746, 5.48970968, 5.61572235,\n",
              "       5.64440881, 5.6510479 , 5.62451325, 5.74739233, 5.47716662,\n",
              "       5.76851448, 5.31095569, 5.68242115, 6.95191922, 5.04965213,\n",
              "       5.94560691, 6.07786186, 5.67939987, 6.36896232, 5.58515274,\n",
              "       5.28049723, 5.35081958, 5.19206721, 6.04250172, 5.26906969,\n",
              "       6.15638805, 5.84978886, 5.71102483, 6.06340995, 5.51384926,\n",
              "       5.26979984, 5.52990413, 4.24331485, 6.18721067, 6.49440221,\n",
              "       4.8562898 , 6.16582624, 6.38707975, 5.04997584, 6.02660063,\n",
              "       5.71910847, 5.29684988, 5.06847422, 6.1926033 , 5.13086404])"
            ]
          },
          "execution_count": 21,
          "metadata": {},
          "output_type": "execute_result"
        }
      ],
      "source": [
        "test_pred = regressor.predict(x_test)\n",
        "test_pred"
      ]
    },
    {
      "cell_type": "code",
      "execution_count": null,
      "id": "c8a0dc30",
      "metadata": {
        "id": "c8a0dc30",
        "outputId": "2b9268bd-9beb-4a26-aeb7-8a6b004a3522"
      },
      "outputs": [
        {
          "data": {
            "text/plain": [
              "0.650034838014541"
            ]
          },
          "execution_count": 22,
          "metadata": {},
          "output_type": "execute_result"
        }
      ],
      "source": [
        "train_rmse = metrics.mean_squared_error(train_pred, y_train) ** 0.5\n",
        "train_rmse"
      ]
    },
    {
      "cell_type": "code",
      "execution_count": null,
      "id": "6d0fa0cd",
      "metadata": {
        "id": "6d0fa0cd",
        "outputId": "3ce471bd-fa89-41b6-dc31-df7d6ac4c3cb"
      },
      "outputs": [
        {
          "data": {
            "text/plain": [
              "0.6375220178009882"
            ]
          },
          "execution_count": 23,
          "metadata": {},
          "output_type": "execute_result"
        }
      ],
      "source": [
        "test_rmse = metrics.mean_squared_error(test_pred, y_test) ** 0.5\n",
        "test_rmse"
      ]
    },
    {
      "cell_type": "code",
      "execution_count": null,
      "id": "a5f98b32",
      "metadata": {
        "id": "a5f98b32"
      },
      "outputs": [],
      "source": [
        "# The root-mean-square error (RMSE) is a frequently used measure of the differences between values (sample and population values) predicted by a model and the values actually observed.\n",
        "# The RMSE for your training and your test sets should be very similar if you have built a good model.\n",
        "# If the RMSE for the test set is much higher than that of the training set, it is likely that you've badly over"
      ]
    },
    {
      "cell_type": "code",
      "execution_count": null,
      "id": "710b3a34",
      "metadata": {
        "id": "710b3a34",
        "outputId": "fc6ae6b2-6b1e-44f0-edf8-c0a7a2eb06e3"
      },
      "outputs": [
        {
          "data": {
            "text/plain": [
              "array([6., 5., 6., 6., 5., 5., 5., 6., 5., 6., 6., 6., 5., 6., 6., 6., 5.,\n",
              "       6., 5., 5., 6., 5., 5., 5., 6., 5., 6., 5., 5., 6., 5., 5., 6., 6.,\n",
              "       5., 5., 7., 6., 6., 5., 6., 6., 6., 6., 5., 6., 5., 6., 5., 5., 6.,\n",
              "       6., 5., 5., 6., 5., 6., 6., 6., 6., 6., 6., 6., 5., 6., 5., 6., 6.,\n",
              "       5., 5., 6., 5., 6., 6., 5., 5., 5., 5., 5., 6., 6., 5., 5., 5., 6.,\n",
              "       5., 6., 6., 7., 5., 6., 5., 6., 6., 7., 6., 5., 6., 6., 6., 5., 6.,\n",
              "       5., 5., 5., 5., 6., 5., 4., 6., 5., 6., 5., 6., 6., 6., 7., 6., 6.,\n",
              "       6., 6., 5., 5., 5., 6., 6., 6., 6., 6., 5., 5., 6., 6., 6., 6., 6.,\n",
              "       6., 5., 6., 5., 6., 5., 6., 5., 6., 5., 8., 6., 7., 5., 6., 6., 6.,\n",
              "       7., 6., 5., 5., 5., 5., 6., 6., 6., 6., 5., 5., 6., 6., 5., 5., 6.,\n",
              "       5., 6., 5., 6., 6., 6., 6., 6., 6., 6., 5., 5., 6., 5., 7., 6., 6.,\n",
              "       6., 6., 6., 6., 6., 5., 6., 6., 6., 6., 6., 6., 5., 6., 5., 5., 6.,\n",
              "       7., 5., 5., 6., 6., 5., 6., 6., 6., 6., 5., 6., 6., 6., 6., 5., 5.,\n",
              "       6., 6., 5., 5., 6., 5., 5., 6., 5., 5., 6., 6., 6., 5., 5., 6., 5.,\n",
              "       5., 7., 5., 5., 6., 6., 5., 5., 5., 7., 5., 6., 5., 6., 6., 5., 6.,\n",
              "       5., 5., 5., 5., 6., 5., 6., 6., 5., 6., 7., 5., 5., 5., 5., 5., 6.,\n",
              "       6., 6., 5., 6., 6., 6., 6., 5., 5., 6., 5., 6., 5., 5., 5., 6., 5.,\n",
              "       6., 5., 6., 6., 6., 5., 6., 6., 6., 5., 5., 7., 5., 5., 6., 6., 6.,\n",
              "       6., 6., 5., 5., 6., 5., 6., 6., 5., 5., 6., 6., 5., 6., 6., 6., 6.,\n",
              "       6., 5., 6., 6., 6., 6., 6., 6., 6., 6., 5., 5., 6., 7., 5., 6., 5.,\n",
              "       6., 5., 5., 5., 6., 6., 5., 6., 6., 5., 6., 6., 5., 5., 5., 6., 5.,\n",
              "       5., 5., 6., 6., 6., 6., 6., 5., 6., 5., 6., 7., 5., 6., 6., 6., 6.,\n",
              "       6., 5., 5., 5., 6., 5., 6., 6., 6., 6., 6., 5., 6., 4., 6., 6., 5.,\n",
              "       6., 6., 5., 6., 6., 5., 5., 6., 5.])"
            ]
          },
          "execution_count": 25,
          "metadata": {},
          "output_type": "execute_result"
        }
      ],
      "source": [
        "# rounding off the predicted values for test set\n",
        "predicted_data = np.round_(test_pred)\n",
        "predicted_data"
      ]
    },
    {
      "cell_type": "code",
      "execution_count": null,
      "id": "9bae9281",
      "metadata": {
        "id": "9bae9281",
        "outputId": "d39c971a-71cd-4f71-8676-d35893502654"
      },
      "outputs": [
        {
          "name": "stdout",
          "output_type": "stream",
          "text": [
            "Mean Absolute Error: 0.49317194801692366\n",
            "Mean Squared Error: 0.40643432318104344\n",
            "Root Mean Squared Error: 0.6375220178009882\n"
          ]
        }
      ],
      "source": [
        "print('Mean Absolute Error:', metrics.mean_absolute_error(y_test, test_pred))\n",
        "print('Mean Squared Error:', metrics.mean_squared_error(y_test, test_pred))\n",
        "print('Root Mean Squared Error:', np.sqrt(metrics.mean_squared_error(y_test, test_pred)))"
      ]
    },
    {
      "cell_type": "code",
      "execution_count": null,
      "id": "0d20c8fc",
      "metadata": {
        "id": "0d20c8fc",
        "outputId": "d2bf531b-22a7-41c9-c193-90a3a1ad5118"
      },
      "outputs": [
        {
          "data": {
            "text/plain": [
              "0.3449824060580087"
            ]
          },
          "execution_count": 27,
          "metadata": {},
          "output_type": "execute_result"
        }
      ],
      "source": [
        "from sklearn.metrics import r2_score\n",
        "r2_score(y_test,test_pred)"
      ]
    },
    {
      "cell_type": "markdown",
      "id": "527b72fe",
      "metadata": {
        "id": "527b72fe"
      },
      "source": [
        "## PREDICTING THE QUALITY OF WINE"
      ]
    },
    {
      "cell_type": "code",
      "execution_count": null,
      "id": "636fc684",
      "metadata": {
        "id": "636fc684",
        "outputId": "a00d1e28-8889-4341-9f0f-2861b0323e38"
      },
      "outputs": [
        {
          "data": {
            "text/html": [
              "<div>\n",
              "<style scoped>\n",
              "    .dataframe tbody tr th:only-of-type {\n",
              "        vertical-align: middle;\n",
              "    }\n",
              "\n",
              "    .dataframe tbody tr th {\n",
              "        vertical-align: top;\n",
              "    }\n",
              "\n",
              "    .dataframe thead th {\n",
              "        text-align: right;\n",
              "    }\n",
              "</style>\n",
              "<table border=\"1\" class=\"dataframe\">\n",
              "  <thead>\n",
              "    <tr style=\"text-align: right;\">\n",
              "      <th></th>\n",
              "      <th>Coeffecient</th>\n",
              "    </tr>\n",
              "  </thead>\n",
              "  <tbody>\n",
              "    <tr>\n",
              "      <th>fixed acidity</th>\n",
              "      <td>0.049682</td>\n",
              "    </tr>\n",
              "    <tr>\n",
              "      <th>volatile acidity</th>\n",
              "      <td>-1.129008</td>\n",
              "    </tr>\n",
              "    <tr>\n",
              "      <th>citric acid</th>\n",
              "      <td>-0.315544</td>\n",
              "    </tr>\n",
              "    <tr>\n",
              "      <th>chlorides</th>\n",
              "      <td>-1.737995</td>\n",
              "    </tr>\n",
              "    <tr>\n",
              "      <th>free sulfur dioxide</th>\n",
              "      <td>0.005922</td>\n",
              "    </tr>\n",
              "    <tr>\n",
              "      <th>total sulfur dioxide</th>\n",
              "      <td>-0.003281</td>\n",
              "    </tr>\n",
              "    <tr>\n",
              "      <th>density</th>\n",
              "      <td>-17.359122</td>\n",
              "    </tr>\n",
              "    <tr>\n",
              "      <th>pH</th>\n",
              "      <td>-0.331435</td>\n",
              "    </tr>\n",
              "    <tr>\n",
              "      <th>sulphates</th>\n",
              "      <td>1.003253</td>\n",
              "    </tr>\n",
              "    <tr>\n",
              "      <th>alcohol</th>\n",
              "      <td>0.277220</td>\n",
              "    </tr>\n",
              "  </tbody>\n",
              "</table>\n",
              "</div>"
            ],
            "text/plain": [
              "                      Coeffecient\n",
              "fixed acidity            0.049682\n",
              "volatile acidity        -1.129008\n",
              "citric acid             -0.315544\n",
              "chlorides               -1.737995\n",
              "free sulfur dioxide      0.005922\n",
              "total sulfur dioxide    -0.003281\n",
              "density                -17.359122\n",
              "pH                      -0.331435\n",
              "sulphates                1.003253\n",
              "alcohol                  0.277220"
            ]
          },
          "execution_count": 28,
          "metadata": {},
          "output_type": "execute_result"
        }
      ],
      "source": [
        "coeffecients = pd.DataFrame(regressor.coef_,features)\n",
        "coeffecients.columns = ['Coeffecient']\n",
        "coeffecients\n",
        "#These numbers mean that holding all other features fixed, a 1 unit increase in suplhates will lead to an increase of 0.8 in Quality of wine, and similarly for the other features\n",
        "#These numbers mean that holding all other features fixed, a 1 unit increase in volatile acidity will lead to a decrease of 0.99 in Quality of wine, and similarly for the other features\n"
      ]
    }
  ],
  "metadata": {
    "kernelspec": {
      "display_name": "Python 3",
      "language": "python",
      "name": "python3"
    },
    "language_info": {
      "codemirror_mode": {
        "name": "ipython",
        "version": 3
      },
      "file_extension": ".py",
      "mimetype": "text/x-python",
      "name": "python",
      "nbconvert_exporter": "python",
      "pygments_lexer": "ipython3",
      "version": "3.8.8"
    },
    "colab": {
      "provenance": [],
      "include_colab_link": true
    }
  },
  "nbformat": 4,
  "nbformat_minor": 5
}